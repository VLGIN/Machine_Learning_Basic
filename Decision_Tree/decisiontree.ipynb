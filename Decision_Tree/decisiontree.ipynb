{
 "cells": [
  {
   "cell_type": "code",
   "execution_count": 1,
   "metadata": {},
   "outputs": [],
   "source": [
    "import numpy as np\n",
    "import pandas as pd\n",
    "from sklearn.preprocessing import LabelEncoder\n",
    "from sklearn.metrics import f1_score, accuracy_score\n",
    "from sklearn.model_selection import train_test_split"
   ]
  },
  {
   "cell_type": "markdown",
   "metadata": {},
   "source": [
    "# Define class and funciton for build tree:\n",
    "1. treeNode (present node of tree).\n",
    "2. cal_entropy: function calculates entropy.\n",
    "3. decisionTree: class presents tree."
   ]
  },
  {
   "cell_type": "code",
   "execution_count": 2,
   "metadata": {},
   "outputs": [],
   "source": [
    "class treeNode:\n",
    "    def __init__(self, ids = [], entropy = 0, children = [], split_attribute = None, label = None, order = [], depth = 0):\n",
    "        self.ids = ids\n",
    "        self.children = children\n",
    "        self.entropy = entropy\n",
    "        self.split_attribute = split_attribute\n",
    "        self.order = order\n",
    "        self.depth = depth\n",
    "    def set_label(self, label):\n",
    "        self.label = label\n",
    "    def set_property(self, split_attribute, order):\n",
    "        self.split_attribute = split_attribute\n",
    "        self.order = order\n",
    "    def set_children(children =[]):\n",
    "        self.children = children"
   ]
  },
  {
   "cell_type": "code",
   "execution_count": 3,
   "metadata": {},
   "outputs": [],
   "source": [
    "def cal_entropy(freq):\n",
    "    freq_non_zero = freq[np.array(freq).nonzero()[0]]\n",
    "    prob = freq_non_zero / float(freq_non_zero.sum())\n",
    "    \n",
    "    return -np.sum(prob * np.log(prob))"
   ]
  },
  {
   "cell_type": "code",
   "execution_count": 4,
   "metadata": {},
   "outputs": [],
   "source": [
    "class decisionTree:\n",
    "    def __init__(self, root = None, data = None, max_depth = 10, min_split = 2, min_gain = 1e-4):\n",
    "        self.root = root\n",
    "        self.data = data\n",
    "        self.max_depth = max_depth\n",
    "        self.min_split = min_split\n",
    "        self.min_gain = min_gain\n",
    "        self.attributes = None\n",
    "    def split(self, node):\n",
    "        ids = node.ids\n",
    "        node_data = self.data.iloc[ids, :]\n",
    "        best_attribute = None\n",
    "        best_gain = 0\n",
    "        values = []\n",
    "        best_splits = []\n",
    "        order = None\n",
    "        \n",
    "        for i, att in enumerate(self.attributes):\n",
    "            splits = []\n",
    "            values = self.data.iloc[ids, i].unique().tolist()\n",
    "            if(len(values) == 1):\n",
    "                continue\n",
    "            for val in values:\n",
    "                sub_ids = node_data.index[node_data[att] == val].tolist()\n",
    "                splits.append(sub_ids)\n",
    "            if min(map(len, splits)) < self.min_split:\n",
    "                continue\n",
    "                \n",
    "            entropy_att = 0\n",
    "            for split in splits:\n",
    "                entropy_att += len(split) * self._entropy(split) / len(ids)\n",
    "\n",
    "            Information_gain = node.entropy - entropy_att\n",
    "\n",
    "            if Information_gain < self.min_gain:\n",
    "                continue\n",
    "            elif Information_gain > best_gain:\n",
    "                best_gain = Information_gain\n",
    "                best_attribute = att\n",
    "                best_splits = splits\n",
    "                order = values\n",
    "        node.set_property(split_attribute = best_attribute, order = order)\n",
    "        child_node = [treeNode(ids = split, entropy = self._entropy(split), depth = node.depth +1) for split in best_splits]\n",
    "        return child_node\n",
    "    \n",
    "    def train_function(self, data, target):\n",
    "        self.data = data\n",
    "        self.attributes = list(data)\n",
    "        self.target = target\n",
    "        number_of_data = data.count()[0]\n",
    "        ids = list(range(number_of_data))\n",
    "        \n",
    "        self.root = treeNode(ids = ids, entropy = self._entropy(ids), depth = 0)\n",
    "        queue = [self.root]\n",
    "        \n",
    "        while queue:\n",
    "            node = queue.pop()\n",
    "            if node.depth < self.max_depth and node.entropy > self.min_gain:\n",
    "                node.children = self.split(node)\n",
    "                if not node.children:\n",
    "                    self._label(node)\n",
    "                queue += node.children\n",
    "            else:\n",
    "                self._label(node)\n",
    "                \n",
    "    def _label(self, node):\n",
    "        node.set_label(self.target.loc[node.ids].mode().loc[0].values[0])\n",
    "    def predict_function(self, data):\n",
    "        self.data = data\n",
    "        number_of_data = self.data.count()[0]\n",
    "        labels = [None]*number_of_data\n",
    "        \n",
    "        for i in range(number_of_data):\n",
    "            x = self.data.iloc[i, :]\n",
    "            node = self.root\n",
    "            while node.children:\n",
    "                try:\n",
    "                    node = node.children[node.order.index(x[node.split_attribute])]\n",
    "                except:\n",
    "                    labels[i] = \"no\"\n",
    "                    break\n",
    "            if labels[i] == None:\n",
    "                labels[i] = node.label\n",
    "        return labels\n",
    "    def _entropy(self, ids):\n",
    "        if(len(ids) == 0):\n",
    "            return 0\n",
    "        freq = np.array(self.target.loc[ids].value_counts())\n",
    "        return cal_entropy(freq)"
   ]
  },
  {
   "cell_type": "markdown",
   "metadata": {},
   "source": [
    "<h1> Decision Tree with ID3 algorithm </h1>\n",
    "<blockquotes> The code above is used for set up decision tree. <br>\n",
    "    In that, each node is defined with entropy, children, attibute of data that used to split points of data at this node.<br>\n",
    "    Tree has max depth, min_split and min_gain - used to stop the training process attribute, data that stored data for training set."
   ]
  },
  {
   "cell_type": "code",
   "execution_count": 5,
   "metadata": {},
   "outputs": [],
   "source": [
    "inputFile = pd.read_csv('train.csv')"
   ]
  },
  {
   "cell_type": "code",
   "execution_count": 6,
   "metadata": {},
   "outputs": [],
   "source": [
    "X = inputFile.iloc[:, :-1]\n",
    "Y = inputFile.iloc[:, -1]"
   ]
  },
  {
   "cell_type": "markdown",
   "metadata": {},
   "source": [
    "# Train test split.\n",
    "Test set = 0.2 original set."
   ]
  },
  {
   "cell_type": "code",
   "execution_count": 7,
   "metadata": {},
   "outputs": [],
   "source": [
    "X_train , X_test, Y_train, Y_test = train_test_split(X, Y, test_size = 0.2, random_state = 42)"
   ]
  },
  {
   "cell_type": "code",
   "execution_count": 8,
   "metadata": {},
   "outputs": [],
   "source": [
    "X_train = X_train.reset_index().drop([\"index\"], axis = 1)\n",
    "X_test = X_test.reset_index().drop([\"index\"], axis = 1)\n",
    "Y_train = Y_train.reset_index().drop([\"index\"], axis = 1)\n",
    "Y_test = Y_test.reset_index().drop([\"index\"], axis = 1)"
   ]
  },
  {
   "cell_type": "markdown",
   "metadata": {},
   "source": [
    "# Define tree and train."
   ]
  },
  {
   "cell_type": "code",
   "execution_count": 10,
   "metadata": {},
   "outputs": [],
   "source": [
    "tree = decisionTree(max_depth = 5, min_split = 2, min_gain = 1e-4)"
   ]
  },
  {
   "cell_type": "code",
   "execution_count": 11,
   "metadata": {},
   "outputs": [],
   "source": [
    "tree.train_function(X_train, Y_train)"
   ]
  },
  {
   "cell_type": "code",
   "execution_count": 12,
   "metadata": {},
   "outputs": [
    {
     "name": "stdout",
     "output_type": "stream",
     "text": [
      "0.6916712647293481\n"
     ]
    }
   ],
   "source": [
    "print(tree.root.entropy)"
   ]
  },
  {
   "cell_type": "code",
   "execution_count": 13,
   "metadata": {},
   "outputs": [],
   "source": [
    "result = tree.predict_function(X_test)"
   ]
  },
  {
   "cell_type": "markdown",
   "metadata": {},
   "source": [
    "# Calculate accuracy and f1_score for prediction"
   ]
  },
  {
   "cell_type": "code",
   "execution_count": 14,
   "metadata": {},
   "outputs": [
    {
     "name": "stderr",
     "output_type": "stream",
     "text": [
      "C:\\Users\\longg\\anaconda3\\lib\\site-packages\\sklearn\\utils\\validation.py:63: DataConversionWarning: A column-vector y was passed when a 1d array was expected. Please change the shape of y to (n_samples, ), for example using ravel().\n",
      "  return f(*args, **kwargs)\n"
     ]
    }
   ],
   "source": [
    "lb = LabelEncoder().fit(list(np.array(Y_test)))\n",
    "y_transform = lb.transform(list(np.array(Y_test)))\n",
    "result_transform = lb.transform(result)"
   ]
  },
  {
   "cell_type": "code",
   "execution_count": 16,
   "metadata": {},
   "outputs": [],
   "source": [
    "f1 = f1_score(y_transform, result_transform)\n",
    "acc = accuracy_score(y_transform, result_transform)"
   ]
  },
  {
   "cell_type": "code",
   "execution_count": 17,
   "metadata": {},
   "outputs": [
    {
     "name": "stdout",
     "output_type": "stream",
     "text": [
      "f1 score:  0.8001885014137606\n",
      "acc:  0.8101209135691895\n"
     ]
    }
   ],
   "source": [
    "print(\"f1 score: \", f1)\n",
    "print(\"acc: \", acc)"
   ]
  },
  {
   "cell_type": "code",
   "execution_count": null,
   "metadata": {},
   "outputs": [],
   "source": []
  }
 ],
 "metadata": {
  "kernelspec": {
   "display_name": "Python 3",
   "language": "python",
   "name": "python3"
  },
  "language_info": {
   "codemirror_mode": {
    "name": "ipython",
    "version": 3
   },
   "file_extension": ".py",
   "mimetype": "text/x-python",
   "name": "python",
   "nbconvert_exporter": "python",
   "pygments_lexer": "ipython3",
   "version": "3.8.8"
  }
 },
 "nbformat": 4,
 "nbformat_minor": 4
}
